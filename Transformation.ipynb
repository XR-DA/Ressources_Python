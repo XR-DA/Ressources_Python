{
 "cells": [
  {
   "cell_type": "markdown",
   "id": "aab7fc9e",
   "metadata": {},
   "source": [
    "# Imports préalables pour visualisation pratique"
   ]
  },
  {
   "cell_type": "code",
   "execution_count": 16,
   "id": "66d7a713",
   "metadata": {},
   "outputs": [],
   "source": [
    "import pandas as pd\n",
    "pd.set_option(\"display.max_columns\", None )"
   ]
  },
  {
   "cell_type": "markdown",
   "id": "e5e8e3b3",
   "metadata": {},
   "source": [
    "#### .append() apprentissage d'élément à une liste"
   ]
  },
  {
   "cell_type": "code",
   "execution_count": 17,
   "id": "6ada863c",
   "metadata": {},
   "outputs": [
    {
     "data": {
      "text/plain": [
       "[1, 2, 3, 4, 5, 'Xavier']"
      ]
     },
     "execution_count": 17,
     "metadata": {},
     "output_type": "execute_result"
    }
   ],
   "source": [
    "list_chiffre = [1, 2, 3, 4, 5]\n",
    "a_ajouter = \"Xavier\"\n",
    "\n",
    "list_chiffre.append(a_ajouter)\n",
    "list_chiffre"
   ]
  },
  {
   "cell_type": "code",
   "execution_count": 18,
   "id": "ff9b4de6",
   "metadata": {},
   "outputs": [
    {
     "data": {
      "text/plain": [
       "[1, 2, 3, 4, 5, ['Xavier, Gerald']]"
      ]
     },
     "execution_count": 18,
     "metadata": {},
     "output_type": "execute_result"
    }
   ],
   "source": [
    "# une liste peut apprendre une autre liste comme élément\n",
    "list_chiffre_2 = [1, 2, 3, 4, 5]\n",
    "a_ajouter_2 = [\"Xavier, Gerald\"]\n",
    "\n",
    "list_chiffre_2.append(a_ajouter_2)\n",
    "list_chiffre_2"
   ]
  },
  {
   "cell_type": "markdown",
   "id": "d056be2c",
   "metadata": {},
   "source": [
    "#### .extend() fusionne 2 listes"
   ]
  },
  {
   "cell_type": "code",
   "execution_count": null,
   "id": "f9bf61c3",
   "metadata": {},
   "outputs": [
    {
     "data": {
      "text/plain": [
       "[1, 2, 3, 4, 5, 6, 7, 8, 9, 10]"
      ]
     },
     "execution_count": 19,
     "metadata": {},
     "output_type": "execute_result"
    }
   ],
   "source": [
    "list_chiffre_3 = [1, 2, 3, 4, 5]\n",
    "list_chiffre_4 = [6,7,8,9,10]\n",
    "\n",
    "list_chiffre_3.extend(list_chiffre_4)\n",
    "list_chiffre_3"
   ]
  },
  {
   "cell_type": "markdown",
   "id": "820fc778",
   "metadata": {},
   "source": [
    "#### .remove() supprime l'élement de la liste sélectionné"
   ]
  },
  {
   "cell_type": "code",
   "execution_count": null,
   "id": "3d5ad403",
   "metadata": {},
   "outputs": [
    {
     "data": {
      "text/plain": [
       "[2, 3, 4, 5]"
      ]
     },
     "execution_count": 20,
     "metadata": {},
     "output_type": "execute_result"
    }
   ],
   "source": [
    "list_chiffre = [1, 2, 3, 4, 5]\n",
    "\n",
    "list_chiffre.remove(1)\n",
    "list_chiffre"
   ]
  },
  {
   "cell_type": "markdown",
   "id": "e9a70854",
   "metadata": {},
   "source": [
    "#### .pop() supprime l'élément par rapport à son index en partant de 0\n",
    "mais il permet également de stocker la valeur supprimée dans une variable"
   ]
  },
  {
   "cell_type": "code",
   "execution_count": null,
   "id": "ad5954df",
   "metadata": {},
   "outputs": [
    {
     "data": {
      "text/plain": [
       "[1, 2, 3, 5]"
      ]
     },
     "execution_count": 21,
     "metadata": {},
     "output_type": "execute_result"
    }
   ],
   "source": [
    "list_chiffre = [1, 2, 3, 4, 5]\n",
    "\n",
    "list_chiffre.pop(3)\n",
    "list_chiffre"
   ]
  },
  {
   "cell_type": "code",
   "execution_count": null,
   "id": "2aea6378",
   "metadata": {},
   "outputs": [
    {
     "name": "stdout",
     "output_type": "stream",
     "text": [
      "4\n",
      "[1, 2, 3, 5]\n"
     ]
    }
   ],
   "source": [
    "# stockage du pop dans une variable\n",
    "list_chiffre = [1, 2, 3, 4, 5]\n",
    "\n",
    "a_stocker = list_chiffre.pop(3)\n",
    "\n",
    "print(a_stocker)\n",
    "print(list_chiffre)"
   ]
  },
  {
   "cell_type": "code",
   "execution_count": null,
   "id": "34cb1029",
   "metadata": {},
   "outputs": [],
   "source": []
  }
 ],
 "metadata": {
  "kernelspec": {
   "display_name": "base",
   "language": "python",
   "name": "python3"
  },
  "language_info": {
   "codemirror_mode": {
    "name": "ipython",
    "version": 3
   },
   "file_extension": ".py",
   "mimetype": "text/x-python",
   "name": "python",
   "nbconvert_exporter": "python",
   "pygments_lexer": "ipython3",
   "version": "3.12.7"
  }
 },
 "nbformat": 4,
 "nbformat_minor": 5
}
