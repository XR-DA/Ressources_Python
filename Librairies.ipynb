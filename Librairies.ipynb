{
 "cells": [
  {
   "cell_type": "markdown",
   "id": "b976477d",
   "metadata": {},
   "source": [
    "# Pandas"
   ]
  },
  {
   "cell_type": "markdown",
   "id": "b2d5c569",
   "metadata": {},
   "source": [
    "##### L'incontournable que je n'ai pas besoin de commenter"
   ]
  },
  {
   "cell_type": "code",
   "execution_count": null,
   "id": "9a2bde8f",
   "metadata": {},
   "outputs": [],
   "source": [
    "!pip install pandas \n",
    "import pandas as pd # as pd de part la convention"
   ]
  },
  {
   "cell_type": "markdown",
   "id": "4329460c",
   "metadata": {},
   "source": [
    "# Itables\n",
    "#### Visualisation standard augmentée (tri sur les headers, cellule de recherche dans les valeurs et fonctions)"
   ]
  },
  {
   "cell_type": "code",
   "execution_count": null,
   "id": "3d7ffb9a",
   "metadata": {},
   "outputs": [],
   "source": [
    "!pip install itables\n",
    "import itables\n",
    "itables.init_notebook_mode() # applique la configuration notebook"
   ]
  },
  {
   "cell_type": "markdown",
   "id": "9150cacc",
   "metadata": {},
   "source": [
    "# NumPy\n",
    "#### Manipulation de tableaux multidimensionnels, fonctions mathémathiques et statistiques"
   ]
  },
  {
   "cell_type": "code",
   "execution_count": null,
   "id": "26ec5a46",
   "metadata": {},
   "outputs": [],
   "source": [
    "!pip install numpy\n",
    "import numpy as pd # as np de part la convention"
   ]
  },
  {
   "cell_type": "markdown",
   "id": "813f8c6a",
   "metadata": {},
   "source": [
    "# Matplotlib\n",
    "#### Dataviz "
   ]
  },
  {
   "cell_type": "code",
   "execution_count": null,
   "id": "499168f4",
   "metadata": {},
   "outputs": [],
   "source": [
    "!pip install matplotlib\n",
    "import matplotlib.pyplot as plt # as plt de part la convention\n"
   ]
  },
  {
   "cell_type": "markdown",
   "id": "f8306891",
   "metadata": {},
   "source": [
    "# Seaborn"
   ]
  },
  {
   "cell_type": "markdown",
   "id": "21fab8bc",
   "metadata": {},
   "source": [
    "#### Dataviz "
   ]
  },
  {
   "cell_type": "code",
   "execution_count": null,
   "id": "960b6269",
   "metadata": {},
   "outputs": [],
   "source": [
    "!pip install seaborn\n",
    "import seaborn as sns # as sns de part la convention\n",
    "# il est recommandé d'importer Matplotlib avec voir nécessaire pour l'usage de plt.show() et des fonctionnalités avancées"
   ]
  },
  {
   "cell_type": "markdown",
   "id": "73d9cc70",
   "metadata": {},
   "source": [
    "# Scikit-learn\n",
    "#### Machine learning"
   ]
  },
  {
   "cell_type": "code",
   "execution_count": null,
   "id": "cc13100f",
   "metadata": {},
   "outputs": [],
   "source": [
    "!pip install sklearn\n",
    "# imports nécessaires et exemple d'imports pour la régression logistique\n",
    "from sklearn.model_selection import train_test_split\n",
    "from sklearn.preprocessing import StandardScaler, OneHotEncoder\n",
    "from sklearn.compose import ColumnTransformer\n",
    "from sklearn.linear_model import LinearRegression"
   ]
  },
  {
   "cell_type": "markdown",
   "id": "ec4958cf",
   "metadata": {},
   "source": [
    "# Requests\n",
    "\n",
    "#### Requêtes API"
   ]
  },
  {
   "cell_type": "code",
   "execution_count": null,
   "id": "2896ed6f",
   "metadata": {},
   "outputs": [],
   "source": [
    "!pip install requests\n",
    "import requests\n",
    "# ensuite on utilisera requests.get"
   ]
  },
  {
   "cell_type": "markdown",
   "id": "87e751ff",
   "metadata": {},
   "source": [
    "# Package web scrapping"
   ]
  },
  {
   "cell_type": "code",
   "execution_count": null,
   "id": "c54c97da",
   "metadata": {},
   "outputs": [],
   "source": [
    "# !pip install les import + upgrade lxml\n",
    "!pip install --upgrade lxml\n",
    "import os\n",
    "import logging\n",
    "import scrapy\n",
    "from scrapy.crawler import CrawlerProcess\n"
   ]
  }
 ],
 "metadata": {
  "kernelspec": {
   "display_name": "base",
   "language": "python",
   "name": "python3"
  },
  "language_info": {
   "codemirror_mode": {
    "name": "ipython",
    "version": 3
   },
   "file_extension": ".py",
   "mimetype": "text/x-python",
   "name": "python",
   "nbconvert_exporter": "python",
   "pygments_lexer": "ipython3",
   "version": "3.12.7"
  }
 },
 "nbformat": 4,
 "nbformat_minor": 5
}
