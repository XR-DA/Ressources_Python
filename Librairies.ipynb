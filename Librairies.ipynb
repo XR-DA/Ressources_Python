{
 "cells": [
  {
   "cell_type": "markdown",
   "id": "b976477d",
   "metadata": {},
   "source": [
    "## Pandas"
   ]
  },
  {
   "cell_type": "markdown",
   "id": "b2d5c569",
   "metadata": {},
   "source": [
    "##### L'incontournable que je n'ai pas besoin de commenter"
   ]
  },
  {
   "cell_type": "code",
   "execution_count": null,
   "id": "9a2bde8f",
   "metadata": {},
   "outputs": [],
   "source": [
    "!pip install pandas \n",
    "import pandas as pd # as pd de part la convention"
   ]
  },
  {
   "cell_type": "markdown",
   "id": "4329460c",
   "metadata": {},
   "source": [
    "# Itables\n",
    "#### Visualisation standard augmentée (tri sur les headers, cellule de recherche dans les valeurs et fonctions)"
   ]
  },
  {
   "cell_type": "code",
   "execution_count": null,
   "id": "3d7ffb9a",
   "metadata": {},
   "outputs": [],
   "source": [
    "!pip install itables\n",
    "import itables\n",
    "itables.init_notebook_mode() # applique la configuration notebook"
   ]
  },
  {
   "cell_type": "markdown",
   "id": "9150cacc",
   "metadata": {},
   "source": [
    "# NumPy\n",
    "#### Manipulation de tableaux multidimensionnels, fonctions mathémathiques et statistiques"
   ]
  },
  {
   "cell_type": "code",
   "execution_count": null,
   "id": "26ec5a46",
   "metadata": {},
   "outputs": [],
   "source": [
    "!pip install numpy\n",
    "import numpy as pd # as np de part la convention"
   ]
  },
  {
   "cell_type": "markdown",
   "id": "813f8c6a",
   "metadata": {},
   "source": [
    "# Matplotlib\n",
    "#### Dataviz "
   ]
  },
  {
   "cell_type": "code",
   "execution_count": null,
   "id": "499168f4",
   "metadata": {},
   "outputs": [],
   "source": [
    "!pip install matplotlib\n",
    "import matplotlib.pyplot as plt # as plt de part la convention\n",
    "# il est recommandé d'importer Matplotlib avec voir nécessaire pour l'usage de plt.show()"
   ]
  },
  {
   "cell_type": "markdown",
   "id": "73d9cc70",
   "metadata": {},
   "source": [
    "# Scikit-learn\n",
    "#### Machine learning"
   ]
  },
  {
   "cell_type": "code",
   "execution_count": null,
   "id": "cc13100f",
   "metadata": {},
   "outputs": [],
   "source": [
    "!pip install sklearn\n",
    "# imports nécessaires et exemple d'import pour la régression logistique\n",
    "from sklearn.model_selection import train_test_split\n",
    "from sklearn.preprocessing import StandardScaler, OneHotEncoder\n",
    "from sklearn.compose import ColumnTransformer\n",
    "from sklearn.linear_model import LinearRegression"
   ]
  }
 ],
 "metadata": {
  "kernelspec": {
   "display_name": "base",
   "language": "python",
   "name": "python3"
  },
  "language_info": {
   "codemirror_mode": {
    "name": "ipython",
    "version": 3
   },
   "file_extension": ".py",
   "mimetype": "text/x-python",
   "name": "python",
   "nbconvert_exporter": "python",
   "pygments_lexer": "ipython3",
   "version": "3.12.7"
  }
 },
 "nbformat": 4,
 "nbformat_minor": 5
}
