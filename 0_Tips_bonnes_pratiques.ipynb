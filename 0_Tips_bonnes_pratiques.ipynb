{
 "cells": [
  {
   "cell_type": "markdown",
   "id": "79a3eee0",
   "metadata": {},
   "source": [
    "# Imports préalables pour visualisation pratique"
   ]
  },
  {
   "cell_type": "code",
   "execution_count": 21,
   "id": "c33d8841",
   "metadata": {},
   "outputs": [],
   "source": [
    "import pandas as pd\n",
    "pd.set_option(\"display.max_columns\", None )"
   ]
  },
  {
   "cell_type": "markdown",
   "id": "affdfd7e",
   "metadata": {},
   "source": [
    "# Bonnes pratiques"
   ]
  },
  {
   "cell_type": "markdown",
   "id": "0671c8e8",
   "metadata": {},
   "source": [
    "#### Mettre sa source dans une variable, accroît la visibilité et évite les longues lignes de code"
   ]
  },
  {
   "cell_type": "code",
   "execution_count": 22,
   "id": "1815170c",
   "metadata": {},
   "outputs": [],
   "source": [
    "source = \"titanic.csv\"\n",
    "data = pd.read_csv(source)"
   ]
  },
  {
   "cell_type": "markdown",
   "id": "80c2fdcf",
   "metadata": {},
   "source": [
    "#### .format et F-string"
   ]
  },
  {
   "cell_type": "markdown",
   "id": "d5f900b1",
   "metadata": {},
   "source": [
    ".format permet d'utiliser aussi les clefs valeurs d'un dictionnaire"
   ]
  },
  {
   "cell_type": "code",
   "execution_count": 23,
   "id": "39134ca0",
   "metadata": {},
   "outputs": [
    {
     "name": "stdout",
     "output_type": "stream",
     "text": [
      "Bonjour Xavier, comment vas tu?\n"
     ]
    }
   ],
   "source": [
    "prenom = \"Xavier\"\n",
    "print(\"Bonjour {}, comment vas tu?\".format(prenom))"
   ]
  },
  {
   "cell_type": "code",
   "execution_count": 24,
   "id": "80868b33",
   "metadata": {},
   "outputs": [
    {
     "name": "stdout",
     "output_type": "stream",
     "text": [
      "Mon frère s'appelle Gerald et j'aurai bientôt 43 ans.\n"
     ]
    }
   ],
   "source": [
    "prenom_frere = \"Gerald\"\n",
    "age_xavier = 42\n",
    "print(\"Mon frère s'appelle {} et j'aurai bientôt {} ans.\".format(prenom_frere,age_xavier+1))"
   ]
  },
  {
   "cell_type": "code",
   "execution_count": 25,
   "id": "0c8cdf0d",
   "metadata": {},
   "outputs": [
    {
     "name": "stdout",
     "output_type": "stream",
     "text": [
      "Je m'appelle Xavier et j'ai 42 ans\n"
     ]
    }
   ],
   "source": [
    "dictionnaire = {\"prenom\" : \"Xavier\", \"age\" : 42}\n",
    "print(\"Je m'appelle {prenom} et j'ai {age} ans\".format(**dictionnaire))"
   ]
  },
  {
   "cell_type": "markdown",
   "id": "efce3a08",
   "metadata": {},
   "source": [
    "f.string plus lisible et performant (rapidité de calcul) mais non utilisable avec un dictionnaire"
   ]
  },
  {
   "cell_type": "code",
   "execution_count": 26,
   "id": "509c8283",
   "metadata": {},
   "outputs": [
    {
     "name": "stdout",
     "output_type": "stream",
     "text": [
      "Bonjour Xavier, comment vas tu?\n",
      "Mon frère s'appelle Gerald et j'aurai bientôt 43 ans.\n"
     ]
    }
   ],
   "source": [
    "print(f\"Bonjour {prenom}, comment vas tu?\")\n",
    "print(f\"Mon frère s'appelle {prenom_frere} et j'aurai bientôt {age_xavier+1} ans.\")"
   ]
  },
  {
   "cell_type": "markdown",
   "id": "86aaf93b",
   "metadata": {},
   "source": [
    "#### Mettre ses multiples modifications dans une variable, accroît la visibilité, évite les longues lignes de code et des retouches aisées\n",
    "ici avec une liste mais fonctionne aussi avec un dictionnaire"
   ]
  },
  {
   "cell_type": "code",
   "execution_count": 27,
   "id": "9ea110a0",
   "metadata": {},
   "outputs": [
    {
     "data": {
      "text/html": [
       "<div>\n",
       "<style scoped>\n",
       "    .dataframe tbody tr th:only-of-type {\n",
       "        vertical-align: middle;\n",
       "    }\n",
       "\n",
       "    .dataframe tbody tr th {\n",
       "        vertical-align: top;\n",
       "    }\n",
       "\n",
       "    .dataframe thead th {\n",
       "        text-align: right;\n",
       "    }\n",
       "</style>\n",
       "<table border=\"1\" class=\"dataframe\">\n",
       "  <thead>\n",
       "    <tr style=\"text-align: right;\">\n",
       "      <th></th>\n",
       "      <th>PassengerId</th>\n",
       "      <th>Survived</th>\n",
       "      <th>Pclass</th>\n",
       "      <th>Name</th>\n",
       "      <th>Sex</th>\n",
       "      <th>Age</th>\n",
       "      <th>SibSp</th>\n",
       "      <th>Parch</th>\n",
       "      <th>Ticket</th>\n",
       "      <th>Fare</th>\n",
       "      <th>Cabin</th>\n",
       "      <th>Embarked</th>\n",
       "    </tr>\n",
       "  </thead>\n",
       "  <tbody>\n",
       "    <tr>\n",
       "      <th>0</th>\n",
       "      <td>1</td>\n",
       "      <td>0</td>\n",
       "      <td>3</td>\n",
       "      <td>Braund, Mr. Owen Harris</td>\n",
       "      <td>male</td>\n",
       "      <td>22.0</td>\n",
       "      <td>1</td>\n",
       "      <td>0</td>\n",
       "      <td>A/5 21171</td>\n",
       "      <td>7.25</td>\n",
       "      <td>NaN</td>\n",
       "      <td>S</td>\n",
       "    </tr>\n",
       "  </tbody>\n",
       "</table>\n",
       "</div>"
      ],
      "text/plain": [
       "   PassengerId  Survived  Pclass                     Name   Sex   Age  SibSp  \\\n",
       "0            1         0       3  Braund, Mr. Owen Harris  male  22.0      1   \n",
       "\n",
       "   Parch     Ticket  Fare Cabin Embarked  \n",
       "0      0  A/5 21171  7.25   NaN        S  "
      ]
     },
     "execution_count": 27,
     "metadata": {},
     "output_type": "execute_result"
    }
   ],
   "source": [
    "data.head(1)"
   ]
  },
  {
   "cell_type": "code",
   "execution_count": 28,
   "id": "18d25b31",
   "metadata": {},
   "outputs": [],
   "source": [
    "colonnes_a_supprimer = [\"Ticket\",\n",
    "                        \"Fare\",\n",
    "                        \"Cabin\"]\n",
    "\n",
    "data = data.drop(columns= colonnes_a_supprimer)"
   ]
  },
  {
   "cell_type": "code",
   "execution_count": 29,
   "id": "b021d1d0",
   "metadata": {},
   "outputs": [
    {
     "data": {
      "text/html": [
       "<div>\n",
       "<style scoped>\n",
       "    .dataframe tbody tr th:only-of-type {\n",
       "        vertical-align: middle;\n",
       "    }\n",
       "\n",
       "    .dataframe tbody tr th {\n",
       "        vertical-align: top;\n",
       "    }\n",
       "\n",
       "    .dataframe thead th {\n",
       "        text-align: right;\n",
       "    }\n",
       "</style>\n",
       "<table border=\"1\" class=\"dataframe\">\n",
       "  <thead>\n",
       "    <tr style=\"text-align: right;\">\n",
       "      <th></th>\n",
       "      <th>PassengerId</th>\n",
       "      <th>Survived</th>\n",
       "      <th>Pclass</th>\n",
       "      <th>Name</th>\n",
       "      <th>Sex</th>\n",
       "      <th>Age</th>\n",
       "      <th>SibSp</th>\n",
       "      <th>Parch</th>\n",
       "      <th>Embarked</th>\n",
       "    </tr>\n",
       "  </thead>\n",
       "  <tbody>\n",
       "    <tr>\n",
       "      <th>0</th>\n",
       "      <td>1</td>\n",
       "      <td>0</td>\n",
       "      <td>3</td>\n",
       "      <td>Braund, Mr. Owen Harris</td>\n",
       "      <td>male</td>\n",
       "      <td>22.0</td>\n",
       "      <td>1</td>\n",
       "      <td>0</td>\n",
       "      <td>S</td>\n",
       "    </tr>\n",
       "  </tbody>\n",
       "</table>\n",
       "</div>"
      ],
      "text/plain": [
       "   PassengerId  Survived  Pclass                     Name   Sex   Age  SibSp  \\\n",
       "0            1         0       3  Braund, Mr. Owen Harris  male  22.0      1   \n",
       "\n",
       "   Parch Embarked  \n",
       "0      0        S  "
      ]
     },
     "execution_count": 29,
     "metadata": {},
     "output_type": "execute_result"
    }
   ],
   "source": [
    "data.head(1)"
   ]
  },
  {
   "cell_type": "markdown",
   "id": "259ee2a8",
   "metadata": {},
   "source": [
    "#### Trop de colonnes pour visualiser certaines infos, inverser lignes colonnes\n",
    "très efficace sur les grands dataset combiné avec pd.set_option"
   ]
  },
  {
   "cell_type": "code",
   "execution_count": 30,
   "id": "a2b8af7e",
   "metadata": {},
   "outputs": [
    {
     "data": {
      "text/html": [
       "<div>\n",
       "<style scoped>\n",
       "    .dataframe tbody tr th:only-of-type {\n",
       "        vertical-align: middle;\n",
       "    }\n",
       "\n",
       "    .dataframe tbody tr th {\n",
       "        vertical-align: top;\n",
       "    }\n",
       "\n",
       "    .dataframe thead th {\n",
       "        text-align: right;\n",
       "    }\n",
       "</style>\n",
       "<table border=\"1\" class=\"dataframe\">\n",
       "  <thead>\n",
       "    <tr style=\"text-align: right;\">\n",
       "      <th></th>\n",
       "      <th>PassengerId</th>\n",
       "      <th>Survived</th>\n",
       "      <th>Pclass</th>\n",
       "      <th>Name</th>\n",
       "      <th>Sex</th>\n",
       "      <th>Age</th>\n",
       "      <th>SibSp</th>\n",
       "      <th>Parch</th>\n",
       "      <th>Embarked</th>\n",
       "    </tr>\n",
       "  </thead>\n",
       "  <tbody>\n",
       "    <tr>\n",
       "      <th>0</th>\n",
       "      <td>int64</td>\n",
       "      <td>int64</td>\n",
       "      <td>int64</td>\n",
       "      <td>object</td>\n",
       "      <td>object</td>\n",
       "      <td>float64</td>\n",
       "      <td>int64</td>\n",
       "      <td>int64</td>\n",
       "      <td>object</td>\n",
       "    </tr>\n",
       "  </tbody>\n",
       "</table>\n",
       "</div>"
      ],
      "text/plain": [
       "  PassengerId Survived Pclass    Name     Sex      Age  SibSp  Parch Embarked\n",
       "0       int64    int64  int64  object  object  float64  int64  int64   object"
      ]
     },
     "execution_count": 30,
     "metadata": {},
     "output_type": "execute_result"
    }
   ],
   "source": [
    "details_dtypes = data.dtypes\n",
    "df_details_dtypes = pd.DataFrame(details_dtypes)\n",
    "df_details_dtypes.T"
   ]
  },
  {
   "cell_type": "markdown",
   "id": "7d1b3b12",
   "metadata": {},
   "source": [
    "#### Besoin de couleur dans un commentaire?"
   ]
  },
  {
   "cell_type": "code",
   "execution_count": 31,
   "id": "3d7e49d8",
   "metadata": {},
   "outputs": [],
   "source": [
    "# <span style=\"color: red; font-weight: bold;\">pour une analyse approfondie non biaisée il conviendra de filtrer out \"waves\" 6 à 9.</span>"
   ]
  },
  {
   "cell_type": "markdown",
   "id": "b2f23a42",
   "metadata": {},
   "source": [
    "<span style=\"color: red; font-weight: bold;\">pour une analyse approfondie non biaisée il conviendra de filtrer out \"waves\" 6 à 9.</span>"
   ]
  },
  {
   "cell_type": "markdown",
   "id": "3b86c6c5",
   "metadata": {},
   "source": []
  }
 ],
 "metadata": {
  "kernelspec": {
   "display_name": "base",
   "language": "python",
   "name": "python3"
  },
  "language_info": {
   "codemirror_mode": {
    "name": "ipython",
    "version": 3
   },
   "file_extension": ".py",
   "mimetype": "text/x-python",
   "name": "python",
   "nbconvert_exporter": "python",
   "pygments_lexer": "ipython3",
   "version": "3.12.7"
  }
 },
 "nbformat": 4,
 "nbformat_minor": 5
}
