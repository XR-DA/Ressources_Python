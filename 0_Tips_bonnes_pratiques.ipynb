{
 "cells": [
  {
   "cell_type": "markdown",
   "id": "79a3eee0",
   "metadata": {},
   "source": [
    "# Imports préalables pour visualisation pratique"
   ]
  },
  {
   "cell_type": "code",
   "execution_count": 2,
   "id": "c33d8841",
   "metadata": {},
   "outputs": [],
   "source": [
    "import pandas as pd\n",
    "pd.set_option(\"display.max_columns\", None )\n",
    "\n",
    "import numpy as np"
   ]
  },
  {
   "cell_type": "markdown",
   "id": "affdfd7e",
   "metadata": {},
   "source": [
    "# Bonnes pratiques"
   ]
  },
  {
   "cell_type": "markdown",
   "id": "0671c8e8",
   "metadata": {},
   "source": [
    "#### Mettre sa source dans une variable, accroît la visibilité et évite les longues lignes de code"
   ]
  },
  {
   "cell_type": "code",
   "execution_count": 40,
   "id": "1815170c",
   "metadata": {},
   "outputs": [],
   "source": [
    "source = \"titanic.csv\"\n",
    "data = pd.read_csv(source)"
   ]
  },
  {
   "cell_type": "markdown",
   "id": "80c2fdcf",
   "metadata": {},
   "source": [
    "#### .format et F-string"
   ]
  },
  {
   "cell_type": "markdown",
   "id": "d5f900b1",
   "metadata": {},
   "source": [
    ".format permet d'utiliser aussi les clefs valeurs d'un dictionnaire"
   ]
  },
  {
   "cell_type": "code",
   "execution_count": 41,
   "id": "39134ca0",
   "metadata": {},
   "outputs": [
    {
     "name": "stdout",
     "output_type": "stream",
     "text": [
      "Bonjour Xavier, comment vas tu?\n"
     ]
    }
   ],
   "source": [
    "prenom = \"Xavier\"\n",
    "print(\"Bonjour {}, comment vas tu?\".format(prenom))"
   ]
  },
  {
   "cell_type": "code",
   "execution_count": 42,
   "id": "80868b33",
   "metadata": {},
   "outputs": [
    {
     "name": "stdout",
     "output_type": "stream",
     "text": [
      "Mon frère s'appelle Gerald et j'aurai bientôt 43 ans.\n"
     ]
    }
   ],
   "source": [
    "prenom_frere = \"Gerald\"\n",
    "age_xavier = 42\n",
    "print(\"Mon frère s'appelle {} et j'aurai bientôt {} ans.\".format(prenom_frere,age_xavier+1))"
   ]
  },
  {
   "cell_type": "code",
   "execution_count": 43,
   "id": "0c8cdf0d",
   "metadata": {},
   "outputs": [
    {
     "name": "stdout",
     "output_type": "stream",
     "text": [
      "Je m'appelle Xavier et j'ai 42 ans\n"
     ]
    }
   ],
   "source": [
    "dictionnaire = {\"prenom\" : \"Xavier\", \"age\" : 42}\n",
    "print(\"Je m'appelle {prenom} et j'ai {age} ans\".format(**dictionnaire))"
   ]
  },
  {
   "cell_type": "markdown",
   "id": "efce3a08",
   "metadata": {},
   "source": [
    "f.string plus lisible et performant (rapidité de calcul) mais non utilisable avec un dictionnaire"
   ]
  },
  {
   "cell_type": "code",
   "execution_count": 44,
   "id": "509c8283",
   "metadata": {},
   "outputs": [
    {
     "name": "stdout",
     "output_type": "stream",
     "text": [
      "Bonjour Xavier, comment vas tu?\n",
      "Mon frère s'appelle Gerald et j'aurai bientôt 43 ans.\n"
     ]
    }
   ],
   "source": [
    "print(f\"Bonjour {prenom}, comment vas tu?\")\n",
    "print(f\"Mon frère s'appelle {prenom_frere} et j'aurai bientôt {age_xavier+1} ans.\")"
   ]
  },
  {
   "cell_type": "markdown",
   "id": "86aaf93b",
   "metadata": {},
   "source": [
    "#### Mettre ses multiples modifications dans une variable, accroît la visibilité, évite les longues lignes de code et des retouches aisées\n",
    "ici avec une liste mais fonctionne aussi avec un dictionnaire"
   ]
  },
  {
   "cell_type": "code",
   "execution_count": 55,
   "id": "9ea110a0",
   "metadata": {},
   "outputs": [
    {
     "data": {
      "text/html": [
       "<div>\n",
       "<style scoped>\n",
       "    .dataframe tbody tr th:only-of-type {\n",
       "        vertical-align: middle;\n",
       "    }\n",
       "\n",
       "    .dataframe tbody tr th {\n",
       "        vertical-align: top;\n",
       "    }\n",
       "\n",
       "    .dataframe thead th {\n",
       "        text-align: right;\n",
       "    }\n",
       "</style>\n",
       "<table border=\"1\" class=\"dataframe\">\n",
       "  <thead>\n",
       "    <tr style=\"text-align: right;\">\n",
       "      <th></th>\n",
       "      <th>PassengerId</th>\n",
       "      <th>Survived</th>\n",
       "      <th>Pclass</th>\n",
       "      <th>Name</th>\n",
       "      <th>Sex</th>\n",
       "      <th>Age</th>\n",
       "      <th>SibSp</th>\n",
       "      <th>Parch</th>\n",
       "      <th>Ticket</th>\n",
       "      <th>Fare</th>\n",
       "      <th>Cabin</th>\n",
       "      <th>Embarked</th>\n",
       "    </tr>\n",
       "  </thead>\n",
       "  <tbody>\n",
       "    <tr>\n",
       "      <th>0</th>\n",
       "      <td>1</td>\n",
       "      <td>0</td>\n",
       "      <td>3</td>\n",
       "      <td>Braund, Mr. Owen Harris</td>\n",
       "      <td>male</td>\n",
       "      <td>22.0</td>\n",
       "      <td>1</td>\n",
       "      <td>0</td>\n",
       "      <td>A/5 21171</td>\n",
       "      <td>7.25</td>\n",
       "      <td>NaN</td>\n",
       "      <td>S</td>\n",
       "    </tr>\n",
       "  </tbody>\n",
       "</table>\n",
       "</div>"
      ],
      "text/plain": [
       "   PassengerId  Survived  Pclass                     Name   Sex   Age  SibSp  \\\n",
       "0            1         0       3  Braund, Mr. Owen Harris  male  22.0      1   \n",
       "\n",
       "   Parch     Ticket  Fare Cabin Embarked  \n",
       "0      0  A/5 21171  7.25   NaN        S  "
      ]
     },
     "execution_count": 55,
     "metadata": {},
     "output_type": "execute_result"
    }
   ],
   "source": [
    "df_exemple_1 = pd.read_csv(source)\n",
    "df_exemple_1.head(1)"
   ]
  },
  {
   "cell_type": "code",
   "execution_count": 47,
   "id": "18d25b31",
   "metadata": {},
   "outputs": [],
   "source": [
    "colonnes_a_supprimer = [\"Ticket\",\n",
    "                        \"Fare\",\n",
    "                        \"Cabin\"]\n",
    "\n",
    "df_exemple_1 = df_exemple_1.drop(columns= colonnes_a_supprimer)"
   ]
  },
  {
   "cell_type": "code",
   "execution_count": 48,
   "id": "b021d1d0",
   "metadata": {},
   "outputs": [
    {
     "data": {
      "text/html": [
       "<div>\n",
       "<style scoped>\n",
       "    .dataframe tbody tr th:only-of-type {\n",
       "        vertical-align: middle;\n",
       "    }\n",
       "\n",
       "    .dataframe tbody tr th {\n",
       "        vertical-align: top;\n",
       "    }\n",
       "\n",
       "    .dataframe thead th {\n",
       "        text-align: right;\n",
       "    }\n",
       "</style>\n",
       "<table border=\"1\" class=\"dataframe\">\n",
       "  <thead>\n",
       "    <tr style=\"text-align: right;\">\n",
       "      <th></th>\n",
       "      <th>PassengerId</th>\n",
       "      <th>Survived</th>\n",
       "      <th>Pclass</th>\n",
       "      <th>Name</th>\n",
       "      <th>Sex</th>\n",
       "      <th>Age</th>\n",
       "      <th>SibSp</th>\n",
       "      <th>Parch</th>\n",
       "      <th>Embarked</th>\n",
       "    </tr>\n",
       "  </thead>\n",
       "  <tbody>\n",
       "    <tr>\n",
       "      <th>0</th>\n",
       "      <td>1</td>\n",
       "      <td>0</td>\n",
       "      <td>3</td>\n",
       "      <td>Braund, Mr. Owen Harris</td>\n",
       "      <td>male</td>\n",
       "      <td>22.0</td>\n",
       "      <td>1</td>\n",
       "      <td>0</td>\n",
       "      <td>S</td>\n",
       "    </tr>\n",
       "  </tbody>\n",
       "</table>\n",
       "</div>"
      ],
      "text/plain": [
       "   PassengerId  Survived  Pclass                     Name   Sex   Age  SibSp  \\\n",
       "0            1         0       3  Braund, Mr. Owen Harris  male  22.0      1   \n",
       "\n",
       "   Parch Embarked  \n",
       "0      0        S  "
      ]
     },
     "execution_count": 48,
     "metadata": {},
     "output_type": "execute_result"
    }
   ],
   "source": [
    "df_exemple_1.head(1)"
   ]
  },
  {
   "cell_type": "markdown",
   "id": "53e705bd",
   "metadata": {},
   "source": [
    "# Tips"
   ]
  },
  {
   "cell_type": "markdown",
   "id": "259ee2a8",
   "metadata": {},
   "source": [
    "#### Trop de colonnes pour visualiser certaines infos, inverser lignes colonnes\n",
    "très efficace sur les grands dataset combiné avec pd.set_option"
   ]
  },
  {
   "cell_type": "code",
   "execution_count": 49,
   "id": "a2b8af7e",
   "metadata": {},
   "outputs": [
    {
     "data": {
      "text/html": [
       "<div>\n",
       "<style scoped>\n",
       "    .dataframe tbody tr th:only-of-type {\n",
       "        vertical-align: middle;\n",
       "    }\n",
       "\n",
       "    .dataframe tbody tr th {\n",
       "        vertical-align: top;\n",
       "    }\n",
       "\n",
       "    .dataframe thead th {\n",
       "        text-align: right;\n",
       "    }\n",
       "</style>\n",
       "<table border=\"1\" class=\"dataframe\">\n",
       "  <thead>\n",
       "    <tr style=\"text-align: right;\">\n",
       "      <th></th>\n",
       "      <th>PassengerId</th>\n",
       "      <th>Survived</th>\n",
       "      <th>Pclass</th>\n",
       "      <th>Name</th>\n",
       "      <th>Sex</th>\n",
       "      <th>Age</th>\n",
       "      <th>SibSp</th>\n",
       "      <th>Parch</th>\n",
       "      <th>Ticket</th>\n",
       "      <th>Fare</th>\n",
       "      <th>Cabin</th>\n",
       "      <th>Embarked</th>\n",
       "    </tr>\n",
       "  </thead>\n",
       "  <tbody>\n",
       "    <tr>\n",
       "      <th>0</th>\n",
       "      <td>int64</td>\n",
       "      <td>int64</td>\n",
       "      <td>int64</td>\n",
       "      <td>object</td>\n",
       "      <td>object</td>\n",
       "      <td>float64</td>\n",
       "      <td>int64</td>\n",
       "      <td>int64</td>\n",
       "      <td>object</td>\n",
       "      <td>float64</td>\n",
       "      <td>object</td>\n",
       "      <td>object</td>\n",
       "    </tr>\n",
       "  </tbody>\n",
       "</table>\n",
       "</div>"
      ],
      "text/plain": [
       "  PassengerId Survived Pclass    Name     Sex      Age  SibSp  Parch  Ticket  \\\n",
       "0       int64    int64  int64  object  object  float64  int64  int64  object   \n",
       "\n",
       "      Fare   Cabin Embarked  \n",
       "0  float64  object   object  "
      ]
     },
     "execution_count": 49,
     "metadata": {},
     "output_type": "execute_result"
    }
   ],
   "source": [
    "details_dtypes = data.dtypes\n",
    "df_details_dtypes = pd.DataFrame(details_dtypes)\n",
    "df_details_dtypes.T"
   ]
  },
  {
   "cell_type": "markdown",
   "id": "7d1b3b12",
   "metadata": {},
   "source": [
    "#### Besoin de couleur dans un commentaire?"
   ]
  },
  {
   "cell_type": "code",
   "execution_count": 50,
   "id": "3d7e49d8",
   "metadata": {},
   "outputs": [],
   "source": [
    "# <span style=\"color: red; font-weight: bold;\">pour une analyse approfondie non biaisée il conviendra de filtrer out \"waves\" 6 à 9.</span>"
   ]
  },
  {
   "cell_type": "markdown",
   "id": "b2f23a42",
   "metadata": {},
   "source": [
    "<span style=\"color: red; font-weight: bold;\">pour une analyse approfondie non biaisée il conviendra de filtrer out \"waves\" 6 à 9.</span>"
   ]
  },
  {
   "cell_type": "markdown",
   "id": "0ff4c693",
   "metadata": {},
   "source": [
    "#### Fusionner plusieurs csv ayant les mêmes headers \n",
    "Pour cet exemple les csv doivent être dans le fichier où est le notebook sinon il faudra définir le chemin."
   ]
  },
  {
   "cell_type": "code",
   "execution_count": null,
   "id": "66a2dec2",
   "metadata": {},
   "outputs": [],
   "source": [
    "import glob\n",
    "\n",
    "# définition du format des sources présentes à fusionner\n",
    "chemin_fichiers = \"*scv\"\n",
    "# création d'une liste des fichiers\n",
    "fichiers = glob.glob(chemin_fichiers)\n",
    "# itération read_csv en compréhension de liste, sep /header / index_col spécifique à l'exemple extrait.\n",
    "df_fichiers = [pd.read_csv(fichier,\n",
    "                 sep = \";\",\n",
    "                 header = 1,\n",
    "                 index_col = False) \n",
    "                 for fichier in fichiers]\n",
    "\n",
    "# fusion via concat de toutes les lignes en conservant  lignes de headers\n",
    "df_glob = pd.concat(df_fichiers, ignore_index = True)\n",
    "\n",
    "# va crash à l'exécution si absence de plusieurs fichiers"
   ]
  },
  {
   "cell_type": "markdown",
   "id": "d0447e74",
   "metadata": {},
   "source": [
    "#### Mettre en forme les labels de Matplotlib\n",
    "Création d'un datafrme à mettre en viz"
   ]
  },
  {
   "cell_type": "code",
   "execution_count": null,
   "id": "8dbc7f40",
   "metadata": {},
   "outputs": [
    {
     "name": "stdout",
     "output_type": "stream",
     "text": [
      "Le nombre de sujets total est de 891.\n"
     ]
    }
   ],
   "source": [
    "nb_passagers = data[\"PassengerId\"].nunique()\n",
    "print(f\"Le nombre de sujets total est de {nb_passagers}.\")"
   ]
  },
  {
   "cell_type": "code",
   "execution_count": null,
   "id": "db07434a",
   "metadata": {},
   "outputs": [],
   "source": [
    "# mask pour filtrer les hommes\n",
    "mask_hommes = (data[\"Sex\"] == \"male\")\n",
    "\n",
    "# calcul du nombre d'hommes et déduction du nombre de femmes\n",
    "nb_hommes = len(data[mask_hommes])\n",
    "nb_femmes = nb_passagers - nb_hommes\n",
    "\n",
    "# mise en dicitionnaire pour graphique\n",
    "df_pourcentage_population = {\"Genre\": [\"Hommes\", \"Femmes\"],\n",
    "                             \"Nombre\": [nb_hommes,nb_femmes]}"
   ]
  },
  {
   "cell_type": "markdown",
   "id": "c3f11360",
   "metadata": {},
   "source": [
    "Création d'un pie chart"
   ]
  },
  {
   "cell_type": "code",
   "execution_count": null,
   "id": "57e9acfb",
   "metadata": {},
   "outputs": [],
   "source": [
    "import matplotlib.pyplot as plt\n",
    "import matplotlib as mpl\n",
    "import catppuccin\n",
    "mpl.style.use(catppuccin.PALETTE.frappe.identifier)"
   ]
  },
  {
   "cell_type": "code",
   "execution_count": null,
   "id": "fde65a1f",
   "metadata": {},
   "outputs": [
    {
     "data": {
      "image/png": "[encoded data removed]",
      "text/plain": [
       "<Figure size 640x480 with 1 Axes>"
      ]
     },
     "metadata": {},
     "output_type": "display_data"
    }
   ],
   "source": [
    "# Création du pie chart avec récupération des objets de texte\n",
    "wedges, texts, autotexts = plt.pie(\n",
    "    x=df_pourcentage_population[\"Nombre\"],\n",
    "    autopct=\"%1.1f%%\",\n",
    "    startangle=90,\n",
    "    explode=[0, 0.05]\n",
    ")\n",
    "\n",
    "# Mettre la couleur des labels internes (autopct) en noir\n",
    "for autotext in autotexts:\n",
    "    autotext.set_color('black')\n",
    "\n",
    "plt.title(\"Répartition des sexes\")\n",
    "plt.legend(df_pourcentage_population[\"Genre\"], bbox_to_anchor=(1, 1))\n",
    "plt.show()"
   ]
  },
  {
   "cell_type": "code",
   "execution_count": null,
   "id": "d2802121",
   "metadata": {},
   "outputs": [],
   "source": []
  }
 ],
 "metadata": {
  "kernelspec": {
   "display_name": "base",
   "language": "python",
   "name": "python3"
  },
  "language_info": {
   "codemirror_mode": {
    "name": "ipython",
    "version": 3
   },
   "file_extension": ".py",
   "mimetype": "text/x-python",
   "name": "python",
   "nbconvert_exporter": "python",
   "pygments_lexer": "ipython3",
   "version": "3.12.7"
  }
 },
 "nbformat": 4,
 "nbformat_minor": 5
}
