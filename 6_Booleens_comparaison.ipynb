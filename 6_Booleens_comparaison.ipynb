{
 "cells": [
  {
   "cell_type": "markdown",
   "id": "47ca365b",
   "metadata": {},
   "source": [
    "# Imports préalables pour visualisation pratique"
   ]
  },
  {
   "cell_type": "code",
   "execution_count": 2,
   "id": "6039a068",
   "metadata": {},
   "outputs": [],
   "source": [
    "import pandas as pd\n",
    "pd.set_option(\"display.max_columns\", None )\n",
    "data = pd.read_csv(\"titanic.csv\")"
   ]
  },
  {
   "cell_type": "markdown",
   "id": "b3ca5e72",
   "metadata": {},
   "source": [
    "## Pandas"
   ]
  },
  {
   "cell_type": "markdown",
   "id": "8d0f11e2",
   "metadata": {},
   "source": [
    "#### Combinaison .eq() et .shift() permet une comparaison entre les valeurs de différentes lignes\n",
    "renvoi un booleen que l'on peut mettre en forme avec .map()"
   ]
  },
  {
   "cell_type": "code",
   "execution_count": 3,
   "id": "0fce0ac6",
   "metadata": {},
   "outputs": [
    {
     "name": "stdout",
     "output_type": "stream",
     "text": [
      "   numero_jour\n",
      "0            1\n",
      "1            1\n",
      "2            2\n",
      "3            2\n",
      "4            3\n",
      "5            3\n",
      "6            4\n",
      "7            4\n",
      "8            5\n",
      "9            5\n"
     ]
    }
   ],
   "source": [
    "# création d'un df pour l'exemple\n",
    "dico_jour =  {\"numero_jour\" : [1,1,2,2,3,3,4,4,5,5]}\n",
    "df_jour = pd.DataFrame(dico_jour)\n",
    "print(df_jour)"
   ]
  },
  {
   "cell_type": "markdown",
   "id": "b73d238f",
   "metadata": {},
   "source": [
    "exemple détection d'un changement de numéro de jour avec le jour antérieur"
   ]
  },
  {
   "cell_type": "code",
   "execution_count": 4,
   "id": "b624146a",
   "metadata": {},
   "outputs": [
    {
     "name": "stdout",
     "output_type": "stream",
     "text": [
      "0    1\n",
      "1    0\n",
      "2    1\n",
      "3    0\n",
      "4    1\n",
      "5    0\n",
      "6    1\n",
      "7    0\n",
      "8    1\n",
      "9    0\n",
      "Name: numero_jour, dtype: int64\n"
     ]
    }
   ],
   "source": [
    "# la ~ vient inverser le renvoi ici qui n'est pas equivalent avec .eq()\n",
    "# . shift(1) pour 1 rang amont avec -1 serait un rang en aval\n",
    "\n",
    "chgt_jour = (\n",
    "    (~df_jour[\"numero_jour\"].eq(df_jour[\"numero_jour\"].shift(1)))\n",
    ").map({True : 1, False: 0})\n",
    "\n",
    "print(chgt_jour)"
   ]
  },
  {
   "cell_type": "markdown",
   "id": "aa5739af",
   "metadata": {},
   "source": [
    "<span style=\"color: red; font-weight: bold;\">attention le premier jour est détecté voir méthode avec d'itération .clip pour non prise en compte</span>"
   ]
  },
  {
   "cell_type": "markdown",
   "id": "5ee6dbda",
   "metadata": {},
   "source": [
    "l'exemple est mis dans une variable et peut être intégré à une colonne si besoin"
   ]
  },
  {
   "cell_type": "code",
   "execution_count": 5,
   "id": "050482ea",
   "metadata": {},
   "outputs": [
    {
     "data": {
      "text/html": [
       "<div>\n",
       "<style scoped>\n",
       "    .dataframe tbody tr th:only-of-type {\n",
       "        vertical-align: middle;\n",
       "    }\n",
       "\n",
       "    .dataframe tbody tr th {\n",
       "        vertical-align: top;\n",
       "    }\n",
       "\n",
       "    .dataframe thead th {\n",
       "        text-align: right;\n",
       "    }\n",
       "</style>\n",
       "<table border=\"1\" class=\"dataframe\">\n",
       "  <thead>\n",
       "    <tr style=\"text-align: right;\">\n",
       "      <th></th>\n",
       "      <th>numero_jour</th>\n",
       "      <th>J</th>\n",
       "    </tr>\n",
       "  </thead>\n",
       "  <tbody>\n",
       "    <tr>\n",
       "      <th>0</th>\n",
       "      <td>1</td>\n",
       "      <td>1</td>\n",
       "    </tr>\n",
       "    <tr>\n",
       "      <th>1</th>\n",
       "      <td>1</td>\n",
       "      <td>1</td>\n",
       "    </tr>\n",
       "    <tr>\n",
       "      <th>2</th>\n",
       "      <td>2</td>\n",
       "      <td>2</td>\n",
       "    </tr>\n",
       "    <tr>\n",
       "      <th>3</th>\n",
       "      <td>2</td>\n",
       "      <td>2</td>\n",
       "    </tr>\n",
       "    <tr>\n",
       "      <th>4</th>\n",
       "      <td>3</td>\n",
       "      <td>3</td>\n",
       "    </tr>\n",
       "    <tr>\n",
       "      <th>5</th>\n",
       "      <td>3</td>\n",
       "      <td>3</td>\n",
       "    </tr>\n",
       "    <tr>\n",
       "      <th>6</th>\n",
       "      <td>4</td>\n",
       "      <td>4</td>\n",
       "    </tr>\n",
       "    <tr>\n",
       "      <th>7</th>\n",
       "      <td>4</td>\n",
       "      <td>4</td>\n",
       "    </tr>\n",
       "    <tr>\n",
       "      <th>8</th>\n",
       "      <td>5</td>\n",
       "      <td>5</td>\n",
       "    </tr>\n",
       "    <tr>\n",
       "      <th>9</th>\n",
       "      <td>5</td>\n",
       "      <td>5</td>\n",
       "    </tr>\n",
       "  </tbody>\n",
       "</table>\n",
       "</div>"
      ],
      "text/plain": [
       "   numero_jour  J\n",
       "0            1  1\n",
       "1            1  1\n",
       "2            2  2\n",
       "3            2  2\n",
       "4            3  3\n",
       "5            3  3\n",
       "6            4  4\n",
       "7            4  4\n",
       "8            5  5\n",
       "9            5  5"
      ]
     },
     "execution_count": 5,
     "metadata": {},
     "output_type": "execute_result"
    }
   ],
   "source": [
    "compte_jour = []\n",
    "\n",
    "compteur_jour = 0\n",
    "\n",
    "for valeur in chgt_jour:\n",
    "    if valeur == 1:\n",
    "        compteur_jour +=1\n",
    "    else:\n",
    "        compteur_jour\n",
    "    compte_jour.append(compteur_jour)\n",
    "\n",
    "df_jour[\"J\"] = compte_jour\n",
    "\n",
    "df_jour"
   ]
  },
  {
   "cell_type": "code",
   "execution_count": null,
   "id": "87bb8ab1",
   "metadata": {},
   "outputs": [],
   "source": []
  }
 ],
 "metadata": {
  "kernelspec": {
   "display_name": "base",
   "language": "python",
   "name": "python3"
  },
  "language_info": {
   "codemirror_mode": {
    "name": "ipython",
    "version": 3
   },
   "file_extension": ".py",
   "mimetype": "text/x-python",
   "name": "python",
   "nbconvert_exporter": "python",
   "pygments_lexer": "ipython3",
   "version": "3.12.7"
  }
 },
 "nbformat": 4,
 "nbformat_minor": 5
}
