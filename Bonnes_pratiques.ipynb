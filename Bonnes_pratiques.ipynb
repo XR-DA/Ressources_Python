{
 "cells": [
  {
   "cell_type": "markdown",
   "id": "79a3eee0",
   "metadata": {},
   "source": [
    "# Imports préalables pour visualisation pratique"
   ]
  },
  {
   "cell_type": "code",
   "execution_count": 10,
   "id": "c33d8841",
   "metadata": {},
   "outputs": [],
   "source": [
    "import pandas as pd\n",
    "pd.set_option(\"display.max_columns\", None )"
   ]
  },
  {
   "cell_type": "markdown",
   "id": "affdfd7e",
   "metadata": {},
   "source": [
    "# Bonnes pratiques"
   ]
  },
  {
   "cell_type": "markdown",
   "id": "0671c8e8",
   "metadata": {},
   "source": [
    "#### Mettre sa source dans une variable, accroît la visibilité et évite les longues lignes de code"
   ]
  },
  {
   "cell_type": "code",
   "execution_count": 11,
   "id": "1815170c",
   "metadata": {},
   "outputs": [],
   "source": [
    "source = \"titanic.csv\"\n",
    "data = pd.read_csv(source)"
   ]
  },
  {
   "cell_type": "markdown",
   "id": "80c2fdcf",
   "metadata": {},
   "source": [
    "#### . format avec {} pour rendre dynamique un espace entre \" \" en fonction d'une variable "
   ]
  },
  {
   "cell_type": "code",
   "execution_count": 12,
   "id": "39134ca0",
   "metadata": {},
   "outputs": [
    {
     "name": "stdout",
     "output_type": "stream",
     "text": [
      "Hello Xavier, how are you today?\n"
     ]
    }
   ],
   "source": [
    "first_name = \"Xavier\"\n",
    "print(\"Hello {}, how are you today?\".format(first_name))"
   ]
  }
 ],
 "metadata": {
  "kernelspec": {
   "display_name": "base",
   "language": "python",
   "name": "python3"
  },
  "language_info": {
   "codemirror_mode": {
    "name": "ipython",
    "version": 3
   },
   "file_extension": ".py",
   "mimetype": "text/x-python",
   "name": "python",
   "nbconvert_exporter": "python",
   "pygments_lexer": "ipython3",
   "version": "3.12.7"
  }
 },
 "nbformat": 4,
 "nbformat_minor": 5
}
