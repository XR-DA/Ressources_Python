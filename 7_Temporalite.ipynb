{
 "cells": [
  {
   "cell_type": "markdown",
   "id": "e95f7c98",
   "metadata": {},
   "source": [
    "# Imports préalables pour visualisation pratique"
   ]
  },
  {
   "cell_type": "code",
   "execution_count": 5,
   "id": "ce8084be",
   "metadata": {},
   "outputs": [],
   "source": [
    "import pandas as pd\n",
    "\n",
    "from datetime import datetime, timedelta\n",
    "\n",
    "pd.set_option(\"display.max_columns\", None )\n",
    "data = pd.read_csv(\"titanic.csv\")\n"
   ]
  },
  {
   "cell_type": "markdown",
   "id": "2f34cc28",
   "metadata": {},
   "source": [
    "#### datetime.now() pour obtenir l'heure au moment de l'exécution "
   ]
  },
  {
   "cell_type": "code",
   "execution_count": 6,
   "id": "70ba8aae",
   "metadata": {},
   "outputs": [
    {
     "name": "stdout",
     "output_type": "stream",
     "text": [
      "2025-06-18 09:15:38.204353\n"
     ]
    }
   ],
   "source": [
    "date_actuelle = datetime.now()\n",
    "print(date_actuelle)"
   ]
  },
  {
   "cell_type": "markdown",
   "id": "49f0445e",
   "metadata": {},
   "source": [
    "#### .timestamp() pour convertir au format timestamp"
   ]
  },
  {
   "cell_type": "code",
   "execution_count": 7,
   "id": "c182cc51",
   "metadata": {},
   "outputs": [
    {
     "name": "stdout",
     "output_type": "stream",
     "text": [
      "1750230938.212561\n"
     ]
    }
   ],
   "source": [
    "date_actuelle = datetime.now().timestamp()\n",
    "print(date_actuelle)"
   ]
  },
  {
   "cell_type": "markdown",
   "id": "2f45a247",
   "metadata": {},
   "source": [
    "#### timedelta() permet avec days de définir une plage temporelle en jours"
   ]
  },
  {
   "cell_type": "code",
   "execution_count": 8,
   "id": "75f31783",
   "metadata": {},
   "outputs": [
    {
     "data": {
      "text/plain": [
       "datetime.timedelta(days=7)"
      ]
     },
     "execution_count": 8,
     "metadata": {},
     "output_type": "execute_result"
    }
   ],
   "source": [
    "nb_jours_a_conserver = timedelta(days = 7)\n",
    "nb_jours_a_conserver"
   ]
  },
  {
   "cell_type": "markdown",
   "id": "f71270cb",
   "metadata": {},
   "source": [
    ".total_seconds() permet de convertire une plage temporelle jours en nombre de secondes\n",
    "utile pour des méthodes de calcul au format timestamp"
   ]
  },
  {
   "cell_type": "code",
   "execution_count": 9,
   "id": "d6f39c20",
   "metadata": {},
   "outputs": [
    {
     "data": {
      "text/plain": [
       "604800.0"
      ]
     },
     "execution_count": 9,
     "metadata": {},
     "output_type": "execute_result"
    }
   ],
   "source": [
    "conversion = nb_jours_a_conserver.total_seconds()\n",
    "conversion"
   ]
  },
  {
   "cell_type": "markdown",
   "id": "e9cfafaa",
   "metadata": {},
   "source": [
    "#### Exemple de création de colonne avec une lambda\n",
    "dataset à trouver pour exemple"
   ]
  },
  {
   "cell_type": "code",
   "execution_count": null,
   "id": "ff030031",
   "metadata": {},
   "outputs": [],
   "source": [
    "# passage du postdate au datetime pour lambda passage timestamp\n",
    "#df[\"timestamp\"] = pd.to_datetime(df[\"postdate\"]).apply(lambda x :\n",
    "                                       #float(x.timestamp()))"
   ]
  }
 ],
 "metadata": {
  "kernelspec": {
   "display_name": "base",
   "language": "python",
   "name": "python3"
  },
  "language_info": {
   "codemirror_mode": {
    "name": "ipython",
    "version": 3
   },
   "file_extension": ".py",
   "mimetype": "text/x-python",
   "name": "python",
   "nbconvert_exporter": "python",
   "pygments_lexer": "ipython3",
   "version": "3.12.7"
  }
 },
 "nbformat": 4,
 "nbformat_minor": 5
}
